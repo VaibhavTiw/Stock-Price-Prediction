{
  "cells": [
    {
      "cell_type": "code",
      "execution_count": 2,
      "id": "05fd5223",
      "metadata": {
        "id": "05fd5223"
      },
      "outputs": [],
      "source": [
        "import numpy as np\n",
        "import pandas as pd\n",
        "import matplotlib.pyplot as plt\n",
        "import yfinance as yf"
      ]
    },
    {
      "cell_type": "code",
      "execution_count": 3,
      "id": "9a14330a",
      "metadata": {
        "colab": {
          "base_uri": "https://localhost:8080/"
        },
        "id": "9a14330a",
        "outputId": "cfcf9a17-d041-405d-8b32-f8454a74a7f6"
      },
      "outputs": [
        {
          "name": "stdout",
          "output_type": "stream",
          "text": [
            "Defaulting to user installation because normal site-packages is not writeable\n",
            "Requirement already satisfied: yfinance in c:\\users\\kiit\\appdata\\local\\packages\\pythonsoftwarefoundation.python.3.12_qbz5n2kfra8p0\\localcache\\local-packages\\python312\\site-packages (0.2.37)\n",
            "Requirement already satisfied: pandas>=1.3.0 in c:\\users\\kiit\\appdata\\local\\packages\\pythonsoftwarefoundation.python.3.12_qbz5n2kfra8p0\\localcache\\local-packages\\python312\\site-packages (from yfinance) (2.2.1)\n",
            "Requirement already satisfied: numpy>=1.16.5 in c:\\users\\kiit\\appdata\\local\\packages\\pythonsoftwarefoundation.python.3.12_qbz5n2kfra8p0\\localcache\\local-packages\\python312\\site-packages (from yfinance) (1.26.2)\n",
            "Requirement already satisfied: requests>=2.31 in c:\\users\\kiit\\appdata\\local\\packages\\pythonsoftwarefoundation.python.3.12_qbz5n2kfra8p0\\localcache\\local-packages\\python312\\site-packages (from yfinance) (2.31.0)\n",
            "Requirement already satisfied: multitasking>=0.0.7 in c:\\users\\kiit\\appdata\\local\\packages\\pythonsoftwarefoundation.python.3.12_qbz5n2kfra8p0\\localcache\\local-packages\\python312\\site-packages (from yfinance) (0.0.11)\n",
            "Requirement already satisfied: lxml>=4.9.1 in c:\\users\\kiit\\appdata\\local\\packages\\pythonsoftwarefoundation.python.3.12_qbz5n2kfra8p0\\localcache\\local-packages\\python312\\site-packages (from yfinance) (5.1.0)\n",
            "Requirement already satisfied: appdirs>=1.4.4 in c:\\users\\kiit\\appdata\\local\\packages\\pythonsoftwarefoundation.python.3.12_qbz5n2kfra8p0\\localcache\\local-packages\\python312\\site-packages (from yfinance) (1.4.4)\n",
            "Requirement already satisfied: pytz>=2022.5 in c:\\users\\kiit\\appdata\\local\\packages\\pythonsoftwarefoundation.python.3.12_qbz5n2kfra8p0\\localcache\\local-packages\\python312\\site-packages (from yfinance) (2024.1)\n",
            "Requirement already satisfied: frozendict>=2.3.4 in c:\\users\\kiit\\appdata\\local\\packages\\pythonsoftwarefoundation.python.3.12_qbz5n2kfra8p0\\localcache\\local-packages\\python312\\site-packages (from yfinance) (2.4.0)\n",
            "Requirement already satisfied: peewee>=3.16.2 in c:\\users\\kiit\\appdata\\local\\packages\\pythonsoftwarefoundation.python.3.12_qbz5n2kfra8p0\\localcache\\local-packages\\python312\\site-packages (from yfinance) (3.17.1)\n",
            "Requirement already satisfied: beautifulsoup4>=4.11.1 in c:\\users\\kiit\\appdata\\local\\packages\\pythonsoftwarefoundation.python.3.12_qbz5n2kfra8p0\\localcache\\local-packages\\python312\\site-packages (from yfinance) (4.12.3)\n",
            "Requirement already satisfied: html5lib>=1.1 in c:\\users\\kiit\\appdata\\local\\packages\\pythonsoftwarefoundation.python.3.12_qbz5n2kfra8p0\\localcache\\local-packages\\python312\\site-packages (from yfinance) (1.1)\n",
            "Requirement already satisfied: soupsieve>1.2 in c:\\users\\kiit\\appdata\\local\\packages\\pythonsoftwarefoundation.python.3.12_qbz5n2kfra8p0\\localcache\\local-packages\\python312\\site-packages (from beautifulsoup4>=4.11.1->yfinance) (2.5)\n",
            "Requirement already satisfied: six>=1.9 in c:\\users\\kiit\\appdata\\local\\packages\\pythonsoftwarefoundation.python.3.12_qbz5n2kfra8p0\\localcache\\local-packages\\python312\\site-packages (from html5lib>=1.1->yfinance) (1.16.0)\n",
            "Requirement already satisfied: webencodings in c:\\users\\kiit\\appdata\\local\\packages\\pythonsoftwarefoundation.python.3.12_qbz5n2kfra8p0\\localcache\\local-packages\\python312\\site-packages (from html5lib>=1.1->yfinance) (0.5.1)\n",
            "Requirement already satisfied: python-dateutil>=2.8.2 in c:\\users\\kiit\\appdata\\local\\packages\\pythonsoftwarefoundation.python.3.12_qbz5n2kfra8p0\\localcache\\local-packages\\python312\\site-packages (from pandas>=1.3.0->yfinance) (2.9.0.post0)\n",
            "Requirement already satisfied: tzdata>=2022.7 in c:\\users\\kiit\\appdata\\local\\packages\\pythonsoftwarefoundation.python.3.12_qbz5n2kfra8p0\\localcache\\local-packages\\python312\\site-packages (from pandas>=1.3.0->yfinance) (2024.1)\n",
            "Requirement already satisfied: charset-normalizer<4,>=2 in c:\\users\\kiit\\appdata\\local\\packages\\pythonsoftwarefoundation.python.3.12_qbz5n2kfra8p0\\localcache\\local-packages\\python312\\site-packages (from requests>=2.31->yfinance) (3.3.2)\n",
            "Requirement already satisfied: idna<4,>=2.5 in c:\\users\\kiit\\appdata\\local\\packages\\pythonsoftwarefoundation.python.3.12_qbz5n2kfra8p0\\localcache\\local-packages\\python312\\site-packages (from requests>=2.31->yfinance) (3.6)\n",
            "Requirement already satisfied: urllib3<3,>=1.21.1 in c:\\users\\kiit\\appdata\\local\\packages\\pythonsoftwarefoundation.python.3.12_qbz5n2kfra8p0\\localcache\\local-packages\\python312\\site-packages (from requests>=2.31->yfinance) (2.2.1)\n",
            "Requirement already satisfied: certifi>=2017.4.17 in c:\\users\\kiit\\appdata\\local\\packages\\pythonsoftwarefoundation.python.3.12_qbz5n2kfra8p0\\localcache\\local-packages\\python312\\site-packages (from requests>=2.31->yfinance) (2024.2.2)\n",
            "Note: you may need to restart the kernel to use updated packages.\n"
          ]
        }
      ],
      "source": [
        "pip install yfinance"
      ]
    },
    {
      "cell_type": "code",
      "execution_count": 4,
      "id": "12ee12b8",
      "metadata": {
        "id": "12ee12b8"
      },
      "outputs": [],
      "source": [
        "import yfinance as yf"
      ]
    },
    {
      "cell_type": "code",
      "execution_count": 5,
      "id": "baa18863",
      "metadata": {
        "colab": {
          "base_uri": "https://localhost:8080/"
        },
        "id": "baa18863",
        "outputId": "762f8d97-3d9b-45a0-cc77-80869d87e6ad"
      },
      "outputs": [
        {
          "name": "stderr",
          "output_type": "stream",
          "text": [
            "[*********************100%%**********************]  1 of 1 completed\n"
          ]
        }
      ],
      "source": [
        "start = '2010-01-01'\n",
        "end = '2023-12-31'\n",
        "stock = 'GOOG'\n",
        "data = yf.download(stock, start, end)"
      ]
    },
    {
      "cell_type": "code",
      "execution_count": 6,
      "id": "bcd1720b",
      "metadata": {
        "id": "bcd1720b"
      },
      "outputs": [],
      "source": [
        "data.reset_index(inplace=True)"
      ]
    },
    {
      "cell_type": "code",
      "execution_count": 7,
      "id": "382411ae",
      "metadata": {
        "colab": {
          "base_uri": "https://localhost:8080/",
          "height": 423
        },
        "id": "382411ae",
        "outputId": "0b7c1356-0d91-4b2b-e87d-d66dc73c42b1"
      },
      "outputs": [
        {
          "data": {
            "text/html": [
              "<div>\n",
              "<style scoped>\n",
              "    .dataframe tbody tr th:only-of-type {\n",
              "        vertical-align: middle;\n",
              "    }\n",
              "\n",
              "    .dataframe tbody tr th {\n",
              "        vertical-align: top;\n",
              "    }\n",
              "\n",
              "    .dataframe thead th {\n",
              "        text-align: right;\n",
              "    }\n",
              "</style>\n",
              "<table border=\"1\" class=\"dataframe\">\n",
              "  <thead>\n",
              "    <tr style=\"text-align: right;\">\n",
              "      <th></th>\n",
              "      <th>Date</th>\n",
              "      <th>Open</th>\n",
              "      <th>High</th>\n",
              "      <th>Low</th>\n",
              "      <th>Close</th>\n",
              "      <th>Adj Close</th>\n",
              "      <th>Volume</th>\n",
              "    </tr>\n",
              "  </thead>\n",
              "  <tbody>\n",
              "    <tr>\n",
              "      <th>0</th>\n",
              "      <td>2010-01-04</td>\n",
              "      <td>15.615220</td>\n",
              "      <td>15.678981</td>\n",
              "      <td>15.547723</td>\n",
              "      <td>15.610239</td>\n",
              "      <td>15.610239</td>\n",
              "      <td>78541293</td>\n",
              "    </tr>\n",
              "    <tr>\n",
              "      <th>1</th>\n",
              "      <td>2010-01-05</td>\n",
              "      <td>15.620949</td>\n",
              "      <td>15.637387</td>\n",
              "      <td>15.480475</td>\n",
              "      <td>15.541497</td>\n",
              "      <td>15.541497</td>\n",
              "      <td>120638494</td>\n",
              "    </tr>\n",
              "    <tr>\n",
              "      <th>2</th>\n",
              "      <td>2010-01-06</td>\n",
              "      <td>15.588072</td>\n",
              "      <td>15.588072</td>\n",
              "      <td>15.102393</td>\n",
              "      <td>15.149715</td>\n",
              "      <td>15.149715</td>\n",
              "      <td>159744526</td>\n",
              "    </tr>\n",
              "    <tr>\n",
              "      <th>3</th>\n",
              "      <td>2010-01-07</td>\n",
              "      <td>15.178109</td>\n",
              "      <td>15.193053</td>\n",
              "      <td>14.760922</td>\n",
              "      <td>14.797037</td>\n",
              "      <td>14.797037</td>\n",
              "      <td>257533695</td>\n",
              "    </tr>\n",
              "    <tr>\n",
              "      <th>4</th>\n",
              "      <td>2010-01-08</td>\n",
              "      <td>14.744733</td>\n",
              "      <td>15.024933</td>\n",
              "      <td>14.672753</td>\n",
              "      <td>14.994298</td>\n",
              "      <td>14.994298</td>\n",
              "      <td>189680313</td>\n",
              "    </tr>\n",
              "    <tr>\n",
              "      <th>...</th>\n",
              "      <td>...</td>\n",
              "      <td>...</td>\n",
              "      <td>...</td>\n",
              "      <td>...</td>\n",
              "      <td>...</td>\n",
              "      <td>...</td>\n",
              "      <td>...</td>\n",
              "    </tr>\n",
              "    <tr>\n",
              "      <th>3517</th>\n",
              "      <td>2023-12-22</td>\n",
              "      <td>142.130005</td>\n",
              "      <td>143.250000</td>\n",
              "      <td>142.054993</td>\n",
              "      <td>142.720001</td>\n",
              "      <td>142.720001</td>\n",
              "      <td>18494700</td>\n",
              "    </tr>\n",
              "    <tr>\n",
              "      <th>3518</th>\n",
              "      <td>2023-12-26</td>\n",
              "      <td>142.979996</td>\n",
              "      <td>143.945007</td>\n",
              "      <td>142.500000</td>\n",
              "      <td>142.820007</td>\n",
              "      <td>142.820007</td>\n",
              "      <td>11170100</td>\n",
              "    </tr>\n",
              "    <tr>\n",
              "      <th>3519</th>\n",
              "      <td>2023-12-27</td>\n",
              "      <td>142.830002</td>\n",
              "      <td>143.320007</td>\n",
              "      <td>141.050995</td>\n",
              "      <td>141.440002</td>\n",
              "      <td>141.440002</td>\n",
              "      <td>17288400</td>\n",
              "    </tr>\n",
              "    <tr>\n",
              "      <th>3520</th>\n",
              "      <td>2023-12-28</td>\n",
              "      <td>141.850006</td>\n",
              "      <td>142.270004</td>\n",
              "      <td>140.828003</td>\n",
              "      <td>141.279999</td>\n",
              "      <td>141.279999</td>\n",
              "      <td>12192500</td>\n",
              "    </tr>\n",
              "    <tr>\n",
              "      <th>3521</th>\n",
              "      <td>2023-12-29</td>\n",
              "      <td>140.679993</td>\n",
              "      <td>141.434998</td>\n",
              "      <td>139.899994</td>\n",
              "      <td>140.929993</td>\n",
              "      <td>140.929993</td>\n",
              "      <td>14872700</td>\n",
              "    </tr>\n",
              "  </tbody>\n",
              "</table>\n",
              "<p>3522 rows × 7 columns</p>\n",
              "</div>"
            ],
            "text/plain": [
              "           Date        Open        High         Low       Close   Adj Close  \\\n",
              "0    2010-01-04   15.615220   15.678981   15.547723   15.610239   15.610239   \n",
              "1    2010-01-05   15.620949   15.637387   15.480475   15.541497   15.541497   \n",
              "2    2010-01-06   15.588072   15.588072   15.102393   15.149715   15.149715   \n",
              "3    2010-01-07   15.178109   15.193053   14.760922   14.797037   14.797037   \n",
              "4    2010-01-08   14.744733   15.024933   14.672753   14.994298   14.994298   \n",
              "...         ...         ...         ...         ...         ...         ...   \n",
              "3517 2023-12-22  142.130005  143.250000  142.054993  142.720001  142.720001   \n",
              "3518 2023-12-26  142.979996  143.945007  142.500000  142.820007  142.820007   \n",
              "3519 2023-12-27  142.830002  143.320007  141.050995  141.440002  141.440002   \n",
              "3520 2023-12-28  141.850006  142.270004  140.828003  141.279999  141.279999   \n",
              "3521 2023-12-29  140.679993  141.434998  139.899994  140.929993  140.929993   \n",
              "\n",
              "         Volume  \n",
              "0      78541293  \n",
              "1     120638494  \n",
              "2     159744526  \n",
              "3     257533695  \n",
              "4     189680313  \n",
              "...         ...  \n",
              "3517   18494700  \n",
              "3518   11170100  \n",
              "3519   17288400  \n",
              "3520   12192500  \n",
              "3521   14872700  \n",
              "\n",
              "[3522 rows x 7 columns]"
            ]
          },
          "execution_count": 7,
          "metadata": {},
          "output_type": "execute_result"
        }
      ],
      "source": [
        "data"
      ]
    },
    {
      "cell_type": "code",
      "execution_count": 8,
      "id": "5b58a6ed",
      "metadata": {
        "id": "5b58a6ed"
      },
      "outputs": [],
      "source": [
        "ma_100_days = data.Close.rolling(100).mean()"
      ]
    },
    {
      "cell_type": "code",
      "execution_count": 9,
      "id": "ba3679eb",
      "metadata": {
        "colab": {
          "base_uri": "https://localhost:8080/",
          "height": 522
        },
        "id": "ba3679eb",
        "outputId": "707fa1fd-67a0-4e58-fafc-d4cf04b7fe60"
      },
      "outputs": [
        {
          "data": {
            "image/png": "[encoded data removed]",
            "text/plain": [
              "<Figure size 800x600 with 1 Axes>"
            ]
          },
          "metadata": {},
          "output_type": "display_data"
        }
      ],
      "source": [
        "plt.figure(figsize=(8,6))\n",
        "plt.plot(ma_100_days, 'r')\n",
        "plt.plot(data.Close, 'g')\n",
        "plt.show()"
      ]
    },
    {
      "cell_type": "code",
      "execution_count": 10,
      "id": "5c19ded6",
      "metadata": {
        "id": "5c19ded6"
      },
      "outputs": [],
      "source": [
        "ma_200_days = data.Close.rolling(200).mean()"
      ]
    },
    {
      "cell_type": "code",
      "execution_count": 11,
      "id": "7efdcb41",
      "metadata": {
        "colab": {
          "base_uri": "https://localhost:8080/",
          "height": 522
        },
        "id": "7efdcb41",
        "outputId": "9def4883-9a11-47cf-eada-784ddfbabf7e"
      },
      "outputs": [
        {
          "data": {
            "image/png": "[encoded data removed]",
            "text/plain": [
              "<Figure size 800x600 with 1 Axes>"
            ]
          },
          "metadata": {},
          "output_type": "display_data"
        }
      ],
      "source": [
        "plt.figure(figsize=(8,6))\n",
        "plt.plot(ma_100_days, 'r')\n",
        "plt.plot(ma_200_days, 'b')\n",
        "plt.plot(data.Close, 'g')\n",
        "plt.show()"
      ]
    },
    {
      "cell_type": "code",
      "execution_count": 12,
      "id": "a83bca3f",
      "metadata": {
        "id": "a83bca3f"
      },
      "outputs": [],
      "source": [
        "data.dropna(inplace=True)\n",
        "# any null/missing values would be deleted."
      ]
    },
    {
      "cell_type": "code",
      "execution_count": 13,
      "id": "c774e83a",
      "metadata": {
        "id": "c774e83a"
      },
      "outputs": [],
      "source": [
        "data_train = pd.DataFrame(data.Close[0: int(len(data)*0.80)])\n",
        "data_test = pd.DataFrame(data.Close[int(len(data)*0.80): len(data)])\n",
        "# 80 percent of the data for training, rest for the test"
      ]
    },
    {
      "cell_type": "code",
      "execution_count": 14,
      "id": "a66d2d2e",
      "metadata": {
        "colab": {
          "base_uri": "https://localhost:8080/"
        },
        "id": "a66d2d2e",
        "outputId": "ab8cb86a-5965-43e7-8ea7-d3d122a76a7c"
      },
      "outputs": [
        {
          "data": {
            "text/plain": [
              "(2817, 705)"
            ]
          },
          "execution_count": 14,
          "metadata": {},
          "output_type": "execute_result"
        }
      ],
      "source": [
        "data_train.shape[0], data_test.shape[0]\n",
        "# size of train and test data"
      ]
    },
    {
      "cell_type": "code",
      "execution_count": 15,
      "id": "930babca",
      "metadata": {
        "id": "930babca"
      },
      "outputs": [],
      "source": [
        "from sklearn.preprocessing import MinMaxScaler"
      ]
    },
    {
      "cell_type": "code",
      "execution_count": 16,
      "id": "7e8e06d3",
      "metadata": {
        "id": "7e8e06d3"
      },
      "outputs": [],
      "source": [
        "scaler = MinMaxScaler(feature_range=(0, 1))"
      ]
    },
    {
      "cell_type": "code",
      "execution_count": 17,
      "id": "0beb2b0a",
      "metadata": {
        "id": "0beb2b0a"
      },
      "outputs": [],
      "source": [
        "data_train_scale = scaler.fit_transform(data_train)"
      ]
    },
    {
      "cell_type": "code",
      "execution_count": 18,
      "id": "44107bb6",
      "metadata": {
        "id": "44107bb6"
      },
      "outputs": [],
      "source": [
        "x = []\n",
        "y = []\n",
        "\n",
        "for i in range(100, data_train_scale.shape[0]):\n",
        "    x.append(data_train_scale[i-100:i])\n",
        "    y.append(data_train_scale[i, 0])"
      ]
    },
    {
      "cell_type": "code",
      "execution_count": 19,
      "id": "7bad7f37",
      "metadata": {
        "colab": {
          "base_uri": "https://localhost:8080/"
        },
        "id": "7bad7f37",
        "outputId": "30c65396-ff19-40e1-bae2-6aa211e59605"
      },
      "outputs": [
        {
          "name": "stdout",
          "output_type": "stream",
          "text": [
            "Defaulting to user installation because normal site-packages is not writeable\n",
            "Requirement already satisfied: keras in c:\\users\\kiit\\appdata\\local\\packages\\pythonsoftwarefoundation.python.3.12_qbz5n2kfra8p0\\localcache\\local-packages\\python312\\site-packages (3.0.5)\n",
            "Requirement already satisfied: absl-py in c:\\users\\kiit\\appdata\\local\\packages\\pythonsoftwarefoundation.python.3.12_qbz5n2kfra8p0\\localcache\\local-packages\\python312\\site-packages (from keras) (2.1.0)\n",
            "Requirement already satisfied: numpy in c:\\users\\kiit\\appdata\\local\\packages\\pythonsoftwarefoundation.python.3.12_qbz5n2kfra8p0\\localcache\\local-packages\\python312\\site-packages (from keras) (1.26.2)\n",
            "Requirement already satisfied: rich in c:\\users\\kiit\\appdata\\local\\packages\\pythonsoftwarefoundation.python.3.12_qbz5n2kfra8p0\\localcache\\local-packages\\python312\\site-packages (from keras) (13.7.1)\n",
            "Requirement already satisfied: namex in c:\\users\\kiit\\appdata\\local\\packages\\pythonsoftwarefoundation.python.3.12_qbz5n2kfra8p0\\localcache\\local-packages\\python312\\site-packages (from keras) (0.0.7)\n",
            "Requirement already satisfied: h5py in c:\\users\\kiit\\appdata\\local\\packages\\pythonsoftwarefoundation.python.3.12_qbz5n2kfra8p0\\localcache\\local-packages\\python312\\site-packages (from keras) (3.10.0)\n",
            "Requirement already satisfied: dm-tree in c:\\users\\kiit\\appdata\\local\\packages\\pythonsoftwarefoundation.python.3.12_qbz5n2kfra8p0\\localcache\\local-packages\\python312\\site-packages (from keras) (0.1.8)\n",
            "Requirement already satisfied: ml-dtypes in c:\\users\\kiit\\appdata\\local\\packages\\pythonsoftwarefoundation.python.3.12_qbz5n2kfra8p0\\localcache\\local-packages\\python312\\site-packages (from keras) (0.3.2)\n",
            "Requirement already satisfied: markdown-it-py>=2.2.0 in c:\\users\\kiit\\appdata\\local\\packages\\pythonsoftwarefoundation.python.3.12_qbz5n2kfra8p0\\localcache\\local-packages\\python312\\site-packages (from rich->keras) (3.0.0)\n",
            "Requirement already satisfied: pygments<3.0.0,>=2.13.0 in c:\\users\\kiit\\appdata\\local\\packages\\pythonsoftwarefoundation.python.3.12_qbz5n2kfra8p0\\localcache\\local-packages\\python312\\site-packages (from rich->keras) (2.17.2)\n",
            "Requirement already satisfied: mdurl~=0.1 in c:\\users\\kiit\\appdata\\local\\packages\\pythonsoftwarefoundation.python.3.12_qbz5n2kfra8p0\\localcache\\local-packages\\python312\\site-packages (from markdown-it-py>=2.2.0->rich->keras) (0.1.2)\n",
            "Note: you may need to restart the kernel to use updated packages.\n"
          ]
        }
      ],
      "source": [
        "pip install keras"
      ]
    },
    {
      "cell_type": "code",
      "execution_count": 20,
      "id": "7d4cc692",
      "metadata": {
        "id": "7d4cc692"
      },
      "outputs": [],
      "source": [
        "from keras.layers import Dense, Dropout, LSTM\n",
        "from keras.models import Sequential"
      ]
    },
    {
      "cell_type": "code",
      "execution_count": 21,
      "id": "5HPQqR4_TwnV",
      "metadata": {
        "id": "5HPQqR4_TwnV"
      },
      "outputs": [],
      "source": [
        "x, y = np.array(x), np.array(y)"
      ]
    },
    {
      "cell_type": "code",
      "execution_count": 22,
      "id": "oWGp78kQYnzu",
      "metadata": {
        "id": "oWGp78kQYnzu"
      },
      "outputs": [
        {
          "name": "stderr",
          "output_type": "stream",
          "text": [
            "C:\\Users\\KIIT\\AppData\\Local\\Packages\\PythonSoftwareFoundation.Python.3.12_qbz5n2kfra8p0\\LocalCache\\local-packages\\Python312\\site-packages\\keras\\src\\layers\\rnn\\rnn.py:205: UserWarning: Do not pass an `input_shape`/`input_dim` argument to a layer. When using Sequential models, prefer using an `Input(shape)` object as the first layer in the model instead.\n",
            "  super().__init__(**kwargs)\n"
          ]
        }
      ],
      "source": [
        "model = Sequential()\n",
        "model.add(LSTM(units = 50, activation='relu', return_sequences=True,\n",
        "               input_shape = ((x.shape[1], 1))))\n",
        "model.add(Dropout(0.2))\n",
        "\n",
        "model.add(LSTM(units = 60, activation='relu', return_sequences=True))\n",
        "model.add(Dropout(0.3))\n",
        "\n",
        "model.add(LSTM(units = 80, activation='relu', return_sequences=True))\n",
        "model.add(Dropout(0.4))\n",
        "\n",
        "model.add(LSTM(units = 50, activation='relu'))\n",
        "model.add(Dropout(0.5))\n",
        "\n",
        "model.add(Dense(units=1))"
      ]
    },
    {
      "cell_type": "code",
      "execution_count": 23,
      "id": "ZzOmQ4A_Zb2_",
      "metadata": {
        "id": "ZzOmQ4A_Zb2_"
      },
      "outputs": [],
      "source": [
        "model.compile(optimizer = 'adam', loss = 'mean_squared_error')"
      ]
    },
    {
      "cell_type": "code",
      "execution_count": 24,
      "id": "Pf1EYiSmZt5I",
      "metadata": {
        "colab": {
          "base_uri": "https://localhost:8080/"
        },
        "id": "Pf1EYiSmZt5I",
        "outputId": "ffbf7ee6-97bf-4cc1-99bf-4f3405a9d90c"
      },
      "outputs": [
        {
          "name": "stdout",
          "output_type": "stream",
          "text": [
            "Epoch 1/50\n",
            "\u001b[1m85/85\u001b[0m \u001b[32m━━━━━━━━━━━━━━━━━━━━\u001b[0m\u001b[37m\u001b[0m \u001b[1m20s\u001b[0m 143ms/step - loss: 0.0429\n",
            "Epoch 2/50\n",
            "\u001b[1m85/85\u001b[0m \u001b[32m━━━━━━━━━━━━━━━━━━━━\u001b[0m\u001b[37m\u001b[0m \u001b[1m13s\u001b[0m 148ms/step - loss: 0.0085\n",
            "Epoch 3/50\n",
            "\u001b[1m85/85\u001b[0m \u001b[32m━━━━━━━━━━━━━━━━━━━━\u001b[0m\u001b[37m\u001b[0m \u001b[1m12s\u001b[0m 144ms/step - loss: 0.0067\n",
            "Epoch 4/50\n",
            "\u001b[1m85/85\u001b[0m \u001b[32m━━━━━━━━━━━━━━━━━━━━\u001b[0m\u001b[37m\u001b[0m \u001b[1m12s\u001b[0m 143ms/step - loss: 0.0062\n",
            "Epoch 5/50\n",
            "\u001b[1m85/85\u001b[0m \u001b[32m━━━━━━━━━━━━━━━━━━━━\u001b[0m\u001b[37m\u001b[0m \u001b[1m13s\u001b[0m 148ms/step - loss: 0.0057\n",
            "Epoch 6/50\n",
            "\u001b[1m85/85\u001b[0m \u001b[32m━━━━━━━━━━━━━━━━━━━━\u001b[0m\u001b[37m\u001b[0m \u001b[1m12s\u001b[0m 144ms/step - loss: 0.0049\n",
            "Epoch 7/50\n",
            "\u001b[1m85/85\u001b[0m \u001b[32m━━━━━━━━━━━━━━━━━━━━\u001b[0m\u001b[37m\u001b[0m \u001b[1m13s\u001b[0m 153ms/step - loss: 0.0045\n",
            "Epoch 8/50\n",
            "\u001b[1m85/85\u001b[0m \u001b[32m━━━━━━━━━━━━━━━━━━━━\u001b[0m\u001b[37m\u001b[0m \u001b[1m12s\u001b[0m 143ms/step - loss: 0.0040\n",
            "Epoch 9/50\n",
            "\u001b[1m85/85\u001b[0m \u001b[32m━━━━━━━━━━━━━━━━━━━━\u001b[0m\u001b[37m\u001b[0m \u001b[1m12s\u001b[0m 145ms/step - loss: 0.0047\n",
            "Epoch 10/50\n",
            "\u001b[1m85/85\u001b[0m \u001b[32m━━━━━━━━━━━━━━━━━━━━\u001b[0m\u001b[37m\u001b[0m \u001b[1m12s\u001b[0m 147ms/step - loss: 0.0040\n",
            "Epoch 11/50\n",
            "\u001b[1m85/85\u001b[0m \u001b[32m━━━━━━━━━━━━━━━━━━━━\u001b[0m\u001b[37m\u001b[0m \u001b[1m12s\u001b[0m 146ms/step - loss: 0.0042\n",
            "Epoch 12/50\n",
            "\u001b[1m85/85\u001b[0m \u001b[32m━━━━━━━━━━━━━━━━━━━━\u001b[0m\u001b[37m\u001b[0m \u001b[1m13s\u001b[0m 148ms/step - loss: 0.0040\n",
            "Epoch 13/50\n",
            "\u001b[1m85/85\u001b[0m \u001b[32m━━━━━━━━━━━━━━━━━━━━\u001b[0m\u001b[37m\u001b[0m \u001b[1m13s\u001b[0m 147ms/step - loss: 0.0034\n",
            "Epoch 14/50\n",
            "\u001b[1m85/85\u001b[0m \u001b[32m━━━━━━━━━━━━━━━━━━━━\u001b[0m\u001b[37m\u001b[0m \u001b[1m12s\u001b[0m 145ms/step - loss: 0.0036\n",
            "Epoch 15/50\n",
            "\u001b[1m85/85\u001b[0m \u001b[32m━━━━━━━━━━━━━━━━━━━━\u001b[0m\u001b[37m\u001b[0m \u001b[1m14s\u001b[0m 159ms/step - loss: 0.0035\n",
            "Epoch 16/50\n",
            "\u001b[1m85/85\u001b[0m \u001b[32m━━━━━━━━━━━━━━━━━━━━\u001b[0m\u001b[37m\u001b[0m \u001b[1m12s\u001b[0m 145ms/step - loss: 0.0043\n",
            "Epoch 17/50\n",
            "\u001b[1m85/85\u001b[0m \u001b[32m━━━━━━━━━━━━━━━━━━━━\u001b[0m\u001b[37m\u001b[0m \u001b[1m13s\u001b[0m 154ms/step - loss: 0.0031\n",
            "Epoch 18/50\n",
            "\u001b[1m85/85\u001b[0m \u001b[32m━━━━━━━━━━━━━━━━━━━━\u001b[0m\u001b[37m\u001b[0m \u001b[1m15s\u001b[0m 172ms/step - loss: 0.0034\n",
            "Epoch 19/50\n",
            "\u001b[1m85/85\u001b[0m \u001b[32m━━━━━━━━━━━━━━━━━━━━\u001b[0m\u001b[37m\u001b[0m \u001b[1m13s\u001b[0m 152ms/step - loss: 0.0030\n",
            "Epoch 20/50\n",
            "\u001b[1m85/85\u001b[0m \u001b[32m━━━━━━━━━━━━━━━━━━━━\u001b[0m\u001b[37m\u001b[0m \u001b[1m14s\u001b[0m 167ms/step - loss: 0.0031\n",
            "Epoch 21/50\n",
            "\u001b[1m85/85\u001b[0m \u001b[32m━━━━━━━━━━━━━━━━━━━━\u001b[0m\u001b[37m\u001b[0m \u001b[1m13s\u001b[0m 151ms/step - loss: 0.0031\n",
            "Epoch 22/50\n",
            "\u001b[1m85/85\u001b[0m \u001b[32m━━━━━━━━━━━━━━━━━━━━\u001b[0m\u001b[37m\u001b[0m \u001b[1m13s\u001b[0m 150ms/step - loss: 0.0031\n",
            "Epoch 23/50\n",
            "\u001b[1m85/85\u001b[0m \u001b[32m━━━━━━━━━━━━━━━━━━━━\u001b[0m\u001b[37m\u001b[0m \u001b[1m13s\u001b[0m 151ms/step - loss: 0.0030\n",
            "Epoch 24/50\n",
            "\u001b[1m85/85\u001b[0m \u001b[32m━━━━━━━━━━━━━━━━━━━━\u001b[0m\u001b[37m\u001b[0m \u001b[1m14s\u001b[0m 164ms/step - loss: 0.0032\n",
            "Epoch 25/50\n",
            "\u001b[1m85/85\u001b[0m \u001b[32m━━━━━━━━━━━━━━━━━━━━\u001b[0m\u001b[37m\u001b[0m \u001b[1m14s\u001b[0m 159ms/step - loss: 0.0032\n",
            "Epoch 26/50\n",
            "\u001b[1m85/85\u001b[0m \u001b[32m━━━━━━━━━━━━━━━━━━━━\u001b[0m\u001b[37m\u001b[0m \u001b[1m14s\u001b[0m 163ms/step - loss: 0.0029\n",
            "Epoch 27/50\n",
            "\u001b[1m85/85\u001b[0m \u001b[32m━━━━━━━━━━━━━━━━━━━━\u001b[0m\u001b[37m\u001b[0m \u001b[1m14s\u001b[0m 162ms/step - loss: 0.0027\n",
            "Epoch 28/50\n",
            "\u001b[1m85/85\u001b[0m \u001b[32m━━━━━━━━━━━━━━━━━━━━\u001b[0m\u001b[37m\u001b[0m \u001b[1m14s\u001b[0m 167ms/step - loss: 0.0035\n",
            "Epoch 29/50\n",
            "\u001b[1m85/85\u001b[0m \u001b[32m━━━━━━━━━━━━━━━━━━━━\u001b[0m\u001b[37m\u001b[0m \u001b[1m14s\u001b[0m 161ms/step - loss: 0.0027\n",
            "Epoch 30/50\n",
            "\u001b[1m85/85\u001b[0m \u001b[32m━━━━━━━━━━━━━━━━━━━━\u001b[0m\u001b[37m\u001b[0m \u001b[1m14s\u001b[0m 165ms/step - loss: 0.0034\n",
            "Epoch 31/50\n",
            "\u001b[1m85/85\u001b[0m \u001b[32m━━━━━━━━━━━━━━━━━━━━\u001b[0m\u001b[37m\u001b[0m \u001b[1m13s\u001b[0m 155ms/step - loss: 0.0028\n",
            "Epoch 32/50\n",
            "\u001b[1m85/85\u001b[0m \u001b[32m━━━━━━━━━━━━━━━━━━━━\u001b[0m\u001b[37m\u001b[0m \u001b[1m14s\u001b[0m 161ms/step - loss: 0.0026\n",
            "Epoch 33/50\n",
            "\u001b[1m85/85\u001b[0m \u001b[32m━━━━━━━━━━━━━━━━━━━━\u001b[0m\u001b[37m\u001b[0m \u001b[1m13s\u001b[0m 150ms/step - loss: 0.0028\n",
            "Epoch 34/50\n",
            "\u001b[1m85/85\u001b[0m \u001b[32m━━━━━━━━━━━━━━━━━━━━\u001b[0m\u001b[37m\u001b[0m \u001b[1m14s\u001b[0m 165ms/step - loss: 0.0024\n",
            "Epoch 35/50\n",
            "\u001b[1m85/85\u001b[0m \u001b[32m━━━━━━━━━━━━━━━━━━━━\u001b[0m\u001b[37m\u001b[0m \u001b[1m14s\u001b[0m 161ms/step - loss: 0.0032\n",
            "Epoch 36/50\n",
            "\u001b[1m85/85\u001b[0m \u001b[32m━━━━━━━━━━━━━━━━━━━━\u001b[0m\u001b[37m\u001b[0m \u001b[1m14s\u001b[0m 169ms/step - loss: 0.0026\n",
            "Epoch 37/50\n",
            "\u001b[1m85/85\u001b[0m \u001b[32m━━━━━━━━━━━━━━━━━━━━\u001b[0m\u001b[37m\u001b[0m \u001b[1m14s\u001b[0m 164ms/step - loss: 0.0027\n",
            "Epoch 38/50\n",
            "\u001b[1m85/85\u001b[0m \u001b[32m━━━━━━━━━━━━━━━━━━━━\u001b[0m\u001b[37m\u001b[0m \u001b[1m14s\u001b[0m 166ms/step - loss: 0.0029\n",
            "Epoch 39/50\n",
            "\u001b[1m85/85\u001b[0m \u001b[32m━━━━━━━━━━━━━━━━━━━━\u001b[0m\u001b[37m\u001b[0m \u001b[1m15s\u001b[0m 171ms/step - loss: 0.0029\n",
            "Epoch 40/50\n",
            "\u001b[1m85/85\u001b[0m \u001b[32m━━━━━━━━━━━━━━━━━━━━\u001b[0m\u001b[37m\u001b[0m \u001b[1m14s\u001b[0m 164ms/step - loss: 0.0030\n",
            "Epoch 41/50\n",
            "\u001b[1m85/85\u001b[0m \u001b[32m━━━━━━━━━━━━━━━━━━━━\u001b[0m\u001b[37m\u001b[0m \u001b[1m14s\u001b[0m 160ms/step - loss: 0.0027\n",
            "Epoch 42/50\n",
            "\u001b[1m85/85\u001b[0m \u001b[32m━━━━━━━━━━━━━━━━━━━━\u001b[0m\u001b[37m\u001b[0m \u001b[1m15s\u001b[0m 171ms/step - loss: 0.0030\n",
            "Epoch 43/50\n",
            "\u001b[1m85/85\u001b[0m \u001b[32m━━━━━━━━━━━━━━━━━━━━\u001b[0m\u001b[37m\u001b[0m \u001b[1m15s\u001b[0m 172ms/step - loss: 0.0026\n",
            "Epoch 44/50\n",
            "\u001b[1m85/85\u001b[0m \u001b[32m━━━━━━━━━━━━━━━━━━━━\u001b[0m\u001b[37m\u001b[0m \u001b[1m14s\u001b[0m 161ms/step - loss: 0.0029\n",
            "Epoch 45/50\n",
            "\u001b[1m85/85\u001b[0m \u001b[32m━━━━━━━━━━━━━━━━━━━━\u001b[0m\u001b[37m\u001b[0m \u001b[1m15s\u001b[0m 178ms/step - loss: 0.0027\n",
            "Epoch 46/50\n",
            "\u001b[1m85/85\u001b[0m \u001b[32m━━━━━━━━━━━━━━━━━━━━\u001b[0m\u001b[37m\u001b[0m \u001b[1m14s\u001b[0m 165ms/step - loss: 0.0026\n",
            "Epoch 47/50\n",
            "\u001b[1m85/85\u001b[0m \u001b[32m━━━━━━━━━━━━━━━━━━━━\u001b[0m\u001b[37m\u001b[0m \u001b[1m15s\u001b[0m 174ms/step - loss: 0.0027\n",
            "Epoch 48/50\n",
            "\u001b[1m85/85\u001b[0m \u001b[32m━━━━━━━━━━━━━━━━━━━━\u001b[0m\u001b[37m\u001b[0m \u001b[1m14s\u001b[0m 161ms/step - loss: 0.0028\n",
            "Epoch 49/50\n",
            "\u001b[1m85/85\u001b[0m \u001b[32m━━━━━━━━━━━━━━━━━━━━\u001b[0m\u001b[37m\u001b[0m \u001b[1m15s\u001b[0m 173ms/step - loss: 0.0029\n",
            "Epoch 50/50\n",
            "\u001b[1m85/85\u001b[0m \u001b[32m━━━━━━━━━━━━━━━━━━━━\u001b[0m\u001b[37m\u001b[0m \u001b[1m14s\u001b[0m 169ms/step - loss: 0.0029\n"
          ]
        },
        {
          "data": {
            "text/plain": [
              "<keras.src.callbacks.history.History at 0x1f31800da90>"
            ]
          },
          "execution_count": 24,
          "metadata": {},
          "output_type": "execute_result"
        }
      ],
      "source": [
        "model.fit(x, y, epochs=50, batch_size=32, verbose=1)"
      ]
    },
    {
      "cell_type": "code",
      "execution_count": 25,
      "id": "uL7Z2zhwZ3Fs",
      "metadata": {
        "colab": {
          "base_uri": "https://localhost:8080/"
        },
        "id": "uL7Z2zhwZ3Fs",
        "outputId": "c6b644fb-6d70-48d3-9836-1fb0bb1891d0"
      },
      "outputs": [
        {
          "data": {
            "text/html": [
              "<pre style=\"white-space:pre;overflow-x:auto;line-height:normal;font-family:Menlo,'DejaVu Sans Mono',consolas,'Courier New',monospace\"><span style=\"font-weight: bold\">Model: \"sequential\"</span>\n",
              "</pre>\n"
            ],
            "text/plain": [
              "\u001b[1mModel: \"sequential\"\u001b[0m\n"
            ]
          },
          "metadata": {},
          "output_type": "display_data"
        },
        {
          "data": {
            "text/html": [
              "<pre style=\"white-space:pre;overflow-x:auto;line-height:normal;font-family:Menlo,'DejaVu Sans Mono',consolas,'Courier New',monospace\">┏━━━━━━━━━━━━━━━━━━━━━━━━━━━━━━━━━┳━━━━━━━━━━━━━━━━━━━━━━━━┳━━━━━━━━━━━━━━━┓\n",
              "┃<span style=\"font-weight: bold\"> Layer (type)                    </span>┃<span style=\"font-weight: bold\"> Output Shape           </span>┃<span style=\"font-weight: bold\">       Param # </span>┃\n",
              "┡━━━━━━━━━━━━━━━━━━━━━━━━━━━━━━━━━╇━━━━━━━━━━━━━━━━━━━━━━━━╇━━━━━━━━━━━━━━━┩\n",
              "│ lstm (<span style=\"color: #0087ff; text-decoration-color: #0087ff\">LSTM</span>)                     │ (<span style=\"color: #00d7ff; text-decoration-color: #00d7ff\">None</span>, <span style=\"color: #00af00; text-decoration-color: #00af00\">100</span>, <span style=\"color: #00af00; text-decoration-color: #00af00\">50</span>)        │        <span style=\"color: #00af00; text-decoration-color: #00af00\">10,400</span> │\n",
              "├─────────────────────────────────┼────────────────────────┼───────────────┤\n",
              "│ dropout (<span style=\"color: #0087ff; text-decoration-color: #0087ff\">Dropout</span>)               │ (<span style=\"color: #00d7ff; text-decoration-color: #00d7ff\">None</span>, <span style=\"color: #00af00; text-decoration-color: #00af00\">100</span>, <span style=\"color: #00af00; text-decoration-color: #00af00\">50</span>)        │             <span style=\"color: #00af00; text-decoration-color: #00af00\">0</span> │\n",
              "├─────────────────────────────────┼────────────────────────┼───────────────┤\n",
              "│ lstm_1 (<span style=\"color: #0087ff; text-decoration-color: #0087ff\">LSTM</span>)                   │ (<span style=\"color: #00d7ff; text-decoration-color: #00d7ff\">None</span>, <span style=\"color: #00af00; text-decoration-color: #00af00\">100</span>, <span style=\"color: #00af00; text-decoration-color: #00af00\">60</span>)        │        <span style=\"color: #00af00; text-decoration-color: #00af00\">26,640</span> │\n",
              "├─────────────────────────────────┼────────────────────────┼───────────────┤\n",
              "│ dropout_1 (<span style=\"color: #0087ff; text-decoration-color: #0087ff\">Dropout</span>)             │ (<span style=\"color: #00d7ff; text-decoration-color: #00d7ff\">None</span>, <span style=\"color: #00af00; text-decoration-color: #00af00\">100</span>, <span style=\"color: #00af00; text-decoration-color: #00af00\">60</span>)        │             <span style=\"color: #00af00; text-decoration-color: #00af00\">0</span> │\n",
              "├─────────────────────────────────┼────────────────────────┼───────────────┤\n",
              "│ lstm_2 (<span style=\"color: #0087ff; text-decoration-color: #0087ff\">LSTM</span>)                   │ (<span style=\"color: #00d7ff; text-decoration-color: #00d7ff\">None</span>, <span style=\"color: #00af00; text-decoration-color: #00af00\">100</span>, <span style=\"color: #00af00; text-decoration-color: #00af00\">80</span>)        │        <span style=\"color: #00af00; text-decoration-color: #00af00\">45,120</span> │\n",
              "├─────────────────────────────────┼────────────────────────┼───────────────┤\n",
              "│ dropout_2 (<span style=\"color: #0087ff; text-decoration-color: #0087ff\">Dropout</span>)             │ (<span style=\"color: #00d7ff; text-decoration-color: #00d7ff\">None</span>, <span style=\"color: #00af00; text-decoration-color: #00af00\">100</span>, <span style=\"color: #00af00; text-decoration-color: #00af00\">80</span>)        │             <span style=\"color: #00af00; text-decoration-color: #00af00\">0</span> │\n",
              "├─────────────────────────────────┼────────────────────────┼───────────────┤\n",
              "│ lstm_3 (<span style=\"color: #0087ff; text-decoration-color: #0087ff\">LSTM</span>)                   │ (<span style=\"color: #00d7ff; text-decoration-color: #00d7ff\">None</span>, <span style=\"color: #00af00; text-decoration-color: #00af00\">50</span>)             │        <span style=\"color: #00af00; text-decoration-color: #00af00\">26,200</span> │\n",
              "├─────────────────────────────────┼────────────────────────┼───────────────┤\n",
              "│ dropout_3 (<span style=\"color: #0087ff; text-decoration-color: #0087ff\">Dropout</span>)             │ (<span style=\"color: #00d7ff; text-decoration-color: #00d7ff\">None</span>, <span style=\"color: #00af00; text-decoration-color: #00af00\">50</span>)             │             <span style=\"color: #00af00; text-decoration-color: #00af00\">0</span> │\n",
              "├─────────────────────────────────┼────────────────────────┼───────────────┤\n",
              "│ dense (<span style=\"color: #0087ff; text-decoration-color: #0087ff\">Dense</span>)                   │ (<span style=\"color: #00d7ff; text-decoration-color: #00d7ff\">None</span>, <span style=\"color: #00af00; text-decoration-color: #00af00\">1</span>)              │            <span style=\"color: #00af00; text-decoration-color: #00af00\">51</span> │\n",
              "└─────────────────────────────────┴────────────────────────┴───────────────┘\n",
              "</pre>\n"
            ],
            "text/plain": [
              "┏━━━━━━━━━━━━━━━━━━━━━━━━━━━━━━━━━┳━━━━━━━━━━━━━━━━━━━━━━━━┳━━━━━━━━━━━━━━━┓\n",
              "┃\u001b[1m \u001b[0m\u001b[1mLayer (type)                   \u001b[0m\u001b[1m \u001b[0m┃\u001b[1m \u001b[0m\u001b[1mOutput Shape          \u001b[0m\u001b[1m \u001b[0m┃\u001b[1m \u001b[0m\u001b[1m      Param #\u001b[0m\u001b[1m \u001b[0m┃\n",
              "┡━━━━━━━━━━━━━━━━━━━━━━━━━━━━━━━━━╇━━━━━━━━━━━━━━━━━━━━━━━━╇━━━━━━━━━━━━━━━┩\n",
              "│ lstm (\u001b[38;5;33mLSTM\u001b[0m)                     │ (\u001b[38;5;45mNone\u001b[0m, \u001b[38;5;34m100\u001b[0m, \u001b[38;5;34m50\u001b[0m)        │        \u001b[38;5;34m10,400\u001b[0m │\n",
              "├─────────────────────────────────┼────────────────────────┼───────────────┤\n",
              "│ dropout (\u001b[38;5;33mDropout\u001b[0m)               │ (\u001b[38;5;45mNone\u001b[0m, \u001b[38;5;34m100\u001b[0m, \u001b[38;5;34m50\u001b[0m)        │             \u001b[38;5;34m0\u001b[0m │\n",
              "├─────────────────────────────────┼────────────────────────┼───────────────┤\n",
              "│ lstm_1 (\u001b[38;5;33mLSTM\u001b[0m)                   │ (\u001b[38;5;45mNone\u001b[0m, \u001b[38;5;34m100\u001b[0m, \u001b[38;5;34m60\u001b[0m)        │        \u001b[38;5;34m26,640\u001b[0m │\n",
              "├─────────────────────────────────┼────────────────────────┼───────────────┤\n",
              "│ dropout_1 (\u001b[38;5;33mDropout\u001b[0m)             │ (\u001b[38;5;45mNone\u001b[0m, \u001b[38;5;34m100\u001b[0m, \u001b[38;5;34m60\u001b[0m)        │             \u001b[38;5;34m0\u001b[0m │\n",
              "├─────────────────────────────────┼────────────────────────┼───────────────┤\n",
              "│ lstm_2 (\u001b[38;5;33mLSTM\u001b[0m)                   │ (\u001b[38;5;45mNone\u001b[0m, \u001b[38;5;34m100\u001b[0m, \u001b[38;5;34m80\u001b[0m)        │        \u001b[38;5;34m45,120\u001b[0m │\n",
              "├─────────────────────────────────┼────────────────────────┼───────────────┤\n",
              "│ dropout_2 (\u001b[38;5;33mDropout\u001b[0m)             │ (\u001b[38;5;45mNone\u001b[0m, \u001b[38;5;34m100\u001b[0m, \u001b[38;5;34m80\u001b[0m)        │             \u001b[38;5;34m0\u001b[0m │\n",
              "├─────────────────────────────────┼────────────────────────┼───────────────┤\n",
              "│ lstm_3 (\u001b[38;5;33mLSTM\u001b[0m)                   │ (\u001b[38;5;45mNone\u001b[0m, \u001b[38;5;34m50\u001b[0m)             │        \u001b[38;5;34m26,200\u001b[0m │\n",
              "├─────────────────────────────────┼────────────────────────┼───────────────┤\n",
              "│ dropout_3 (\u001b[38;5;33mDropout\u001b[0m)             │ (\u001b[38;5;45mNone\u001b[0m, \u001b[38;5;34m50\u001b[0m)             │             \u001b[38;5;34m0\u001b[0m │\n",
              "├─────────────────────────────────┼────────────────────────┼───────────────┤\n",
              "│ dense (\u001b[38;5;33mDense\u001b[0m)                   │ (\u001b[38;5;45mNone\u001b[0m, \u001b[38;5;34m1\u001b[0m)              │            \u001b[38;5;34m51\u001b[0m │\n",
              "└─────────────────────────────────┴────────────────────────┴───────────────┘\n"
            ]
          },
          "metadata": {},
          "output_type": "display_data"
        },
        {
          "data": {
            "text/html": [
              "<pre style=\"white-space:pre;overflow-x:auto;line-height:normal;font-family:Menlo,'DejaVu Sans Mono',consolas,'Courier New',monospace\"><span style=\"font-weight: bold\"> Total params: </span><span style=\"color: #00af00; text-decoration-color: #00af00\">325,235</span> (1.24 MB)\n",
              "</pre>\n"
            ],
            "text/plain": [
              "\u001b[1m Total params: \u001b[0m\u001b[38;5;34m325,235\u001b[0m (1.24 MB)\n"
            ]
          },
          "metadata": {},
          "output_type": "display_data"
        },
        {
          "data": {
            "text/html": [
              "<pre style=\"white-space:pre;overflow-x:auto;line-height:normal;font-family:Menlo,'DejaVu Sans Mono',consolas,'Courier New',monospace\"><span style=\"font-weight: bold\"> Trainable params: </span><span style=\"color: #00af00; text-decoration-color: #00af00\">108,411</span> (423.48 KB)\n",
              "</pre>\n"
            ],
            "text/plain": [
              "\u001b[1m Trainable params: \u001b[0m\u001b[38;5;34m108,411\u001b[0m (423.48 KB)\n"
            ]
          },
          "metadata": {},
          "output_type": "display_data"
        },
        {
          "data": {
            "text/html": [
              "<pre style=\"white-space:pre;overflow-x:auto;line-height:normal;font-family:Menlo,'DejaVu Sans Mono',consolas,'Courier New',monospace\"><span style=\"font-weight: bold\"> Non-trainable params: </span><span style=\"color: #00af00; text-decoration-color: #00af00\">0</span> (0.00 B)\n",
              "</pre>\n"
            ],
            "text/plain": [
              "\u001b[1m Non-trainable params: \u001b[0m\u001b[38;5;34m0\u001b[0m (0.00 B)\n"
            ]
          },
          "metadata": {},
          "output_type": "display_data"
        },
        {
          "data": {
            "text/html": [
              "<pre style=\"white-space:pre;overflow-x:auto;line-height:normal;font-family:Menlo,'DejaVu Sans Mono',consolas,'Courier New',monospace\"><span style=\"font-weight: bold\"> Optimizer params: </span><span style=\"color: #00af00; text-decoration-color: #00af00\">216,824</span> (846.97 KB)\n",
              "</pre>\n"
            ],
            "text/plain": [
              "\u001b[1m Optimizer params: \u001b[0m\u001b[38;5;34m216,824\u001b[0m (846.97 KB)\n"
            ]
          },
          "metadata": {},
          "output_type": "display_data"
        }
      ],
      "source": [
        "model.summary()"
      ]
    },
    {
      "cell_type": "code",
      "execution_count": 26,
      "id": "fN6QAcIWdrJd",
      "metadata": {
        "id": "fN6QAcIWdrJd"
      },
      "outputs": [],
      "source": [
        "past_100_days = data_train.tail(100)"
      ]
    },
    {
      "cell_type": "code",
      "execution_count": 27,
      "id": "GvTJGoC6eDIA",
      "metadata": {
        "id": "GvTJGoC6eDIA"
      },
      "outputs": [],
      "source": [
        "data_test = pd.concat([past_100_days, data_test], ignore_index=True)"
      ]
    },
    {
      "cell_type": "code",
      "execution_count": 28,
      "id": "5I953lgaeRIg",
      "metadata": {
        "colab": {
          "base_uri": "https://localhost:8080/",
          "height": 423
        },
        "id": "5I953lgaeRIg",
        "outputId": "637c8cc4-ec83-4bb3-ac8f-7311d429582a"
      },
      "outputs": [
        {
          "data": {
            "text/html": [
              "<div>\n",
              "<style scoped>\n",
              "    .dataframe tbody tr th:only-of-type {\n",
              "        vertical-align: middle;\n",
              "    }\n",
              "\n",
              "    .dataframe tbody tr th {\n",
              "        vertical-align: top;\n",
              "    }\n",
              "\n",
              "    .dataframe thead th {\n",
              "        text-align: right;\n",
              "    }\n",
              "</style>\n",
              "<table border=\"1\" class=\"dataframe\">\n",
              "  <thead>\n",
              "    <tr style=\"text-align: right;\">\n",
              "      <th></th>\n",
              "      <th>Close</th>\n",
              "    </tr>\n",
              "  </thead>\n",
              "  <tbody>\n",
              "    <tr>\n",
              "      <th>0</th>\n",
              "      <td>76.730499</td>\n",
              "    </tr>\n",
              "    <tr>\n",
              "      <th>1</th>\n",
              "      <td>77.796501</td>\n",
              "    </tr>\n",
              "    <tr>\n",
              "      <th>2</th>\n",
              "      <td>79.665497</td>\n",
              "    </tr>\n",
              "    <tr>\n",
              "      <th>3</th>\n",
              "      <td>80.766502</td>\n",
              "    </tr>\n",
              "    <tr>\n",
              "      <th>4</th>\n",
              "      <td>82.050003</td>\n",
              "    </tr>\n",
              "    <tr>\n",
              "      <th>...</th>\n",
              "      <td>...</td>\n",
              "    </tr>\n",
              "    <tr>\n",
              "      <th>800</th>\n",
              "      <td>142.720001</td>\n",
              "    </tr>\n",
              "    <tr>\n",
              "      <th>801</th>\n",
              "      <td>142.820007</td>\n",
              "    </tr>\n",
              "    <tr>\n",
              "      <th>802</th>\n",
              "      <td>141.440002</td>\n",
              "    </tr>\n",
              "    <tr>\n",
              "      <th>803</th>\n",
              "      <td>141.279999</td>\n",
              "    </tr>\n",
              "    <tr>\n",
              "      <th>804</th>\n",
              "      <td>140.929993</td>\n",
              "    </tr>\n",
              "  </tbody>\n",
              "</table>\n",
              "<p>805 rows × 1 columns</p>\n",
              "</div>"
            ],
            "text/plain": [
              "          Close\n",
              "0     76.730499\n",
              "1     77.796501\n",
              "2     79.665497\n",
              "3     80.766502\n",
              "4     82.050003\n",
              "..          ...\n",
              "800  142.720001\n",
              "801  142.820007\n",
              "802  141.440002\n",
              "803  141.279999\n",
              "804  140.929993\n",
              "\n",
              "[805 rows x 1 columns]"
            ]
          },
          "execution_count": 28,
          "metadata": {},
          "output_type": "execute_result"
        }
      ],
      "source": [
        "data_test"
      ]
    },
    {
      "cell_type": "code",
      "execution_count": 29,
      "id": "R71iLLLqeVfQ",
      "metadata": {
        "id": "R71iLLLqeVfQ"
      },
      "outputs": [],
      "source": [
        "data_test_scale = scaler.fit_transform(data_test)"
      ]
    },
    {
      "cell_type": "code",
      "execution_count": 30,
      "id": "HnrF8W-Leer9",
      "metadata": {
        "colab": {
          "base_uri": "https://localhost:8080/"
        },
        "id": "HnrF8W-Leer9",
        "outputId": "7a542232-4ec3-4efe-8ac1-f3da435367af"
      },
      "outputs": [
        {
          "data": {
            "text/plain": [
              "array([[0.01201285],\n",
              "       [0.02624936],\n",
              "       [0.05120991],\n",
              "       [0.0659139 ],\n",
              "       [0.08305513],\n",
              "       [0.04930017],\n",
              "       [0.05852181],\n",
              "       [0.        ],\n",
              "       [0.03380163],\n",
              "       [0.06970669],\n",
              "       [0.07305881],\n",
              "       [0.08920507],\n",
              "       [0.15525917],\n",
              "       [0.16476805],\n",
              "       [0.16368627],\n",
              "       [0.16452096],\n",
              "       [0.14942306],\n",
              "       [0.15764974],\n",
              "       [0.15573327],\n",
              "       [0.17388281],\n",
              "       [0.17679424],\n",
              "       [0.16929537],\n",
              "       [0.15368995],\n",
              "       [0.16513526],\n",
              "       [0.15062496],\n",
              "       [0.14573032],\n",
              "       [0.16844733],\n",
              "       [0.17015013],\n",
              "       [0.1846804 ],\n",
              "       [0.16301185],\n",
              "       [0.18795905],\n",
              "       [0.20789148],\n",
              "       [0.20710356],\n",
              "       [0.20791817],\n",
              "       [0.20223561],\n",
              "       [0.20161459],\n",
              "       [0.17863052],\n",
              "       [0.17275437],\n",
              "       [0.17705468],\n",
              "       [0.16255773],\n",
              "       [0.16770607],\n",
              "       [0.16452096],\n",
              "       [0.15443783],\n",
              "       [0.14315951],\n",
              "       [0.14874192],\n",
              "       [0.13814474],\n",
              "       [0.14407439],\n",
              "       [0.14839467],\n",
              "       [0.17326178],\n",
              "       [0.16166292],\n",
              "       [0.14884207],\n",
              "       [0.15709555],\n",
              "       [0.14130988],\n",
              "       [0.14977692],\n",
              "       [0.14601755],\n",
              "       [0.18071399],\n",
              "       [0.19404225],\n",
              "       [0.16700496],\n",
              "       [0.1535364 ],\n",
              "       [0.15877828],\n",
              "       [0.14928286],\n",
              "       [0.14661851],\n",
              "       [0.18312453],\n",
              "       [0.24725554],\n",
              "       [0.25016025],\n",
              "       [0.2567042 ],\n",
              "       [0.25560245],\n",
              "       [0.26751514],\n",
              "       [0.20978787],\n",
              "       [0.23136971],\n",
              "       [0.21309332],\n",
              "       [0.25690452],\n",
              "       [0.27437302],\n",
              "       [0.36956785],\n",
              "       [0.36442612],\n",
              "       [0.38821818],\n",
              "       [0.3848193 ],\n",
              "       [0.37854241],\n",
              "       [0.38646861],\n",
              "       [0.38680923],\n",
              "       [0.3922981 ],\n",
              "       [0.40417747],\n",
              "       [0.40845771],\n",
              "       [0.40103902],\n",
              "       [0.39031489],\n",
              "       [0.36610223],\n",
              "       [0.37009534],\n",
              "       [0.38632841],\n",
              "       [0.34371912],\n",
              "       [0.34739178],\n",
              "       [0.37720692],\n",
              "       [0.37342075],\n",
              "       [0.34061409],\n",
              "       [0.35555834],\n",
              "       [0.3952563 ],\n",
              "       [0.33891801],\n",
              "       [0.35796898],\n",
              "       [0.35952486],\n",
              "       [0.39941641],\n",
              "       [0.36412564],\n",
              "       [0.36717728],\n",
              "       [0.38455887],\n",
              "       [0.38359732],\n",
              "       [0.34696435],\n",
              "       [0.35162535],\n",
              "       [0.34854692],\n",
              "       [0.3581426 ],\n",
              "       [0.3528673 ],\n",
              "       [0.35239993],\n",
              "       [0.34651694],\n",
              "       [0.36013916],\n",
              "       [0.35986538],\n",
              "       [0.3686063 ],\n",
              "       [0.4147613 ],\n",
              "       [0.47338999],\n",
              "       [0.47285588],\n",
              "       [0.48950293],\n",
              "       [0.50002675],\n",
              "       [0.51367556],\n",
              "       [0.49291516],\n",
              "       [0.50124873],\n",
              "       [0.49294848],\n",
              "       [0.52087395],\n",
              "       [0.52160848],\n",
              "       [0.52470689],\n",
              "       [0.5188507 ],\n",
              "       [0.51862359],\n",
              "       [0.50168278],\n",
              "       [0.53332086],\n",
              "       [0.54095993],\n",
              "       [0.52785868],\n",
              "       [0.57646436],\n",
              "       [0.60983866],\n",
              "       [0.59663715],\n",
              "       [0.58665428],\n",
              "       [0.55932986],\n",
              "       [0.56099252],\n",
              "       [0.57742591],\n",
              "       [0.5890048 ],\n",
              "       [0.55092283],\n",
              "       [0.52895381],\n",
              "       [0.48242477],\n",
              "       [0.49770964],\n",
              "       [0.53389511],\n",
              "       [0.53740088],\n",
              "       [0.52539465],\n",
              "       [0.52892039],\n",
              "       [0.56055846],\n",
              "       [0.55321986],\n",
              "       [0.59433349],\n",
              "       [0.59593604],\n",
              "       [0.61226927],\n",
              "       [0.59155564],\n",
              "       [0.5975988 ],\n",
              "       [0.60978527],\n",
              "       [0.60408935],\n",
              "       [0.59295786],\n",
              "       [0.62444239],\n",
              "       [0.63401128],\n",
              "       [0.64520288],\n",
              "       [0.65091214],\n",
              "       [0.67107831],\n",
              "       [0.66595666],\n",
              "       [0.67471083],\n",
              "       [0.67045056],\n",
              "       [0.66595666],\n",
              "       [0.67496464],\n",
              "       [0.66423378],\n",
              "       [0.67608646],\n",
              "       [0.68335821],\n",
              "       [0.67617327],\n",
              "       [0.68713103],\n",
              "       [0.6832982 ],\n",
              "       [0.6809544 ],\n",
              "       [0.67025697],\n",
              "       [0.66087505],\n",
              "       [0.67493122],\n",
              "       [0.7063222 ],\n",
              "       [0.72037175],\n",
              "       [0.72446512],\n",
              "       [0.71243893],\n",
              "       [0.71774745],\n",
              "       [0.7309623 ],\n",
              "       [0.73671181],\n",
              "       [0.75124208],\n",
              "       [0.74034422],\n",
              "       [0.74807693],\n",
              "       [0.71346721],\n",
              "       [0.73814073],\n",
              "       [0.75815986],\n",
              "       [0.76788251],\n",
              "       [0.82781317],\n",
              "       [0.85223298],\n",
              "       [0.81419768],\n",
              "       [0.80865542],\n",
              "       [0.81077883],\n",
              "       [0.79315678],\n",
              "       [0.80342026],\n",
              "       [0.80729986],\n",
              "       [0.80394112],\n",
              "       [0.81611425],\n",
              "       [0.81739624],\n",
              "       [0.83029727],\n",
              "       [0.83155929],\n",
              "       [0.82612381],\n",
              "       [0.83547231],\n",
              "       [0.83569281],\n",
              "       [0.84250381],\n",
              "       [0.8209288 ],\n",
              "       [0.81117294],\n",
              "       [0.81576028],\n",
              "       [0.83610669],\n",
              "       [0.87166461],\n",
              "       [0.88901278],\n",
              "       [0.89637807],\n",
              "       [0.88533349],\n",
              "       [0.91775297],\n",
              "       [0.93002615],\n",
              "       [0.92992609],\n",
              "       [0.93500087],\n",
              "       [0.9133256 ],\n",
              "       [0.92075101],\n",
              "       [0.93068722],\n",
              "       [0.9222001 ],\n",
              "       [0.92260074],\n",
              "       [0.88263583],\n",
              "       [0.90325592],\n",
              "       [0.9024681 ],\n",
              "       [0.92650704],\n",
              "       [0.9153891 ],\n",
              "       [0.87652583],\n",
              "       [0.84385265],\n",
              "       [0.85225967],\n",
              "       [0.86951451],\n",
              "       [0.8813738 ],\n",
              "       [0.8921445 ],\n",
              "       [0.87702673],\n",
              "       [0.80601787],\n",
              "       [0.78380828],\n",
              "       [0.76704109],\n",
              "       [0.80973709],\n",
              "       [0.7737119 ],\n",
              "       [0.80592433],\n",
              "       [0.82164326],\n",
              "       [0.84610301],\n",
              "       [0.85772857],\n",
              "       [0.84158904],\n",
              "       [0.81308258],\n",
              "       [0.82893499],\n",
              "       [0.87583807],\n",
              "       [0.87935045],\n",
              "       [0.89651827],\n",
              "       [0.9080238 ],\n",
              "       [0.88923307],\n",
              "       [0.89411446],\n",
              "       [0.83861749],\n",
              "       [0.84059397],\n",
              "       [0.85260019],\n",
              "       [0.9428204 ],\n",
              "       [0.93883381],\n",
              "       [0.9674336 ],\n",
              "       [0.90738271],\n",
              "       [0.93528148],\n",
              "       [0.94766144],\n",
              "       [0.97294264],\n",
              "       [0.98039474],\n",
              "       [0.98187053],\n",
              "       [0.980495  ],\n",
              "       [0.9454714 ],\n",
              "       [0.94710064],\n",
              "       [0.9857968 ],\n",
              "       [0.98235798],\n",
              "       [0.97819125],\n",
              "       [0.97800418],\n",
              "       [1.        ],\n",
              "       [0.9898969 ],\n",
              "       [0.95151455],\n",
              "       [0.94722087],\n",
              "       [0.94669328],\n",
              "       [0.89445498],\n",
              "       [0.93863349],\n",
              "       [0.88972724],\n",
              "       [0.87858912],\n",
              "       [0.90741613],\n",
              "       [0.89064201],\n",
              "       [0.90768308],\n",
              "       [0.9643086 ],\n",
              "       [0.97344354],\n",
              "       [0.96523683],\n",
              "       [0.97283586],\n",
              "       [0.94651965],\n",
              "       [0.92336207],\n",
              "       [0.95538743],\n",
              "       [0.92159915],\n",
              "       [0.89441483],\n",
              "       [0.88905292],\n",
              "       [0.91334578],\n",
              "       [0.94978506],\n",
              "       [0.95236922],\n",
              "       [0.96467581],\n",
              "       [0.94309408],\n",
              "       [0.94384868],\n",
              "       [0.93714446],\n",
              "       [0.91947574],\n",
              "       [0.92475084],\n",
              "       [0.91596336],\n",
              "       [0.82564309],\n",
              "       [0.82427409],\n",
              "       [0.81697563],\n",
              "       [0.83793645],\n",
              "       [0.85721443],\n",
              "       [0.87898976],\n",
              "       [0.8453751 ],\n",
              "       [0.85412937],\n",
              "       [0.80744006],\n",
              "       [0.7989128 ],\n",
              "       [0.77025963],\n",
              "       [0.72465871],\n",
              "       [0.72839811],\n",
              "       [0.67983248],\n",
              "       [0.71328034],\n",
              "       [0.71169105],\n",
              "       [0.76736164],\n",
              "       [0.79953393],\n",
              "       [0.82864786],\n",
              "       [0.9643086 ],\n",
              "       [0.89237824],\n",
              "       [0.89725963],\n",
              "       [0.84279767],\n",
              "       [0.84647023],\n",
              "       [0.87638563],\n",
              "       [0.83831691],\n",
              "       [0.77858657],\n",
              "       [0.79421196],\n",
              "       [0.80924312],\n",
              "       [0.82342615],\n",
              "       [0.75426029],\n",
              "       [0.72967359],\n",
              "       [0.71545042],\n",
              "       [0.69117763],\n",
              "       [0.75913476],\n",
              "       [0.78378831],\n",
              "       [0.78874979],\n",
              "       [0.77909398],\n",
              "       [0.78688661],\n",
              "       [0.78096368],\n",
              "       [0.75176946],\n",
              "       [0.67621331],\n",
              "       [0.68708437],\n",
              "       [0.77506073],\n",
              "       [0.75924847],\n",
              "       [0.72978037],\n",
              "       [0.67990594],\n",
              "       [0.71889617],\n",
              "       [0.77271703],\n",
              "       [0.78486998],\n",
              "       [0.81426452],\n",
              "       [0.80995086],\n",
              "       [0.86068667],\n",
              "       [0.83699477],\n",
              "       [0.87450248],\n",
              "       [0.87730041],\n",
              "       [0.88302301],\n",
              "       [0.90038463],\n",
              "       [0.89229815],\n",
              "       [0.85229982],\n",
              "       [0.86632919],\n",
              "       [0.90562651],\n",
              "       [0.87117716],\n",
              "       [0.81926594],\n",
              "       [0.80977051],\n",
              "       [0.77699055],\n",
              "       [0.72071227],\n",
              "       [0.70172142],\n",
              "       [0.7272496 ],\n",
              "       [0.68674375],\n",
              "       [0.69619913],\n",
              "       [0.73052173],\n",
              "       [0.69999864],\n",
              "       [0.65582013],\n",
              "       [0.58472446],\n",
              "       [0.63328347],\n",
              "       [0.58328209],\n",
              "       [0.52337803],\n",
              "       [0.58202007],\n",
              "       [0.52265684],\n",
              "       [0.55191107],\n",
              "       [0.56489892],\n",
              "       [0.62426877],\n",
              "       [0.54642883],\n",
              "       [0.53191863],\n",
              "       [0.49751595],\n",
              "       [0.51755526],\n",
              "       [0.50922832],\n",
              "       [0.49854433],\n",
              "       [0.54334387],\n",
              "       [0.52033311],\n",
              "       [0.54582787],\n",
              "       [0.48839446],\n",
              "       [0.46628513],\n",
              "       [0.44715408],\n",
              "       [0.47858511],\n",
              "       [0.40192048],\n",
              "       [0.40076524],\n",
              "       [0.4335719 ],\n",
              "       [0.49370981],\n",
              "       [0.51027005],\n",
              "       [0.51157884],\n",
              "       [0.55977726],\n",
              "       [0.51728148],\n",
              "       [0.54995456],\n",
              "       [0.55287934],\n",
              "       [0.55299285],\n",
              "       [0.52200912],\n",
              "       [0.47539327],\n",
              "       [0.41461447],\n",
              "       [0.41885467],\n",
              "       [0.46154414],\n",
              "       [0.41140256],\n",
              "       [0.4278226 ],\n",
              "       [0.48323939],\n",
              "       [0.4834931 ],\n",
              "       [0.49218063],\n",
              "       [0.57035447],\n",
              "       [0.54477279],\n",
              "       [0.49067152],\n",
              "       [0.48646465],\n",
              "       [0.44794862],\n",
              "       [0.44405567],\n",
              "       [0.50824008],\n",
              "       [0.52595556],\n",
              "       [0.58061112],\n",
              "       [0.5921299 ],\n",
              "       [0.54343731],\n",
              "       [0.52109434],\n",
              "       [0.48553642],\n",
              "       [0.47556027],\n",
              "       [0.49328238],\n",
              "       [0.45512705],\n",
              "       [0.51802936],\n",
              "       [0.51909769],\n",
              "       [0.52363846],\n",
              "       [0.43442667],\n",
              "       [0.43242339],\n",
              "       [0.39542992],\n",
              "       [0.50440714],\n",
              "       [0.51762862],\n",
              "       [0.54500653],\n",
              "       [0.52951472],\n",
              "       [0.53512382],\n",
              "       [0.57358635],\n",
              "       [0.57478835],\n",
              "       [0.56610755],\n",
              "       [0.56503912],\n",
              "       [0.55649189],\n",
              "       [0.59856034],\n",
              "       [0.58747562],\n",
              "       [0.62527046],\n",
              "       [0.62834206],\n",
              "       [0.62340076],\n",
              "       [0.59415315],\n",
              "       [0.60136489],\n",
              "       [0.56477206],\n",
              "       [0.52403909],\n",
              "       [0.52003254],\n",
              "       [0.51909769],\n",
              "       [0.55916286],\n",
              "       [0.47369057],\n",
              "       [0.46086963],\n",
              "       [0.45512705],\n",
              "       [0.44497718],\n",
              "       [0.46367428],\n",
              "       [0.43870028],\n",
              "       [0.42267425],\n",
              "       [0.46273943],\n",
              "       [0.448583  ],\n",
              "       [0.48010094],\n",
              "       [0.48130295],\n",
              "       [0.3936937 ],\n",
              "       [0.4011726 ],\n",
              "       [0.37486312],\n",
              "       [0.3712572 ],\n",
              "       [0.37419533],\n",
              "       [0.34721816],\n",
              "       [0.32291196],\n",
              "       [0.33039076],\n",
              "       [0.31169365],\n",
              "       [0.30688582],\n",
              "       [0.29727017],\n",
              "       [0.33266109],\n",
              "       [0.29727017],\n",
              "       [0.27136142],\n",
              "       [0.31342988],\n",
              "       [0.35496411],\n",
              "       [0.35242662],\n",
              "       [0.35269368],\n",
              "       [0.3170357 ],\n",
              "       [0.30555034],\n",
              "       [0.29673605],\n",
              "       [0.30007482],\n",
              "       [0.3189054 ],\n",
              "       [0.28511712],\n",
              "       [0.3331953 ],\n",
              "       [0.3413419 ],\n",
              "       [0.32665136],\n",
              "       [0.32985654],\n",
              "       [0.34254391],\n",
              "       [0.36244291],\n",
              "       [0.38861882],\n",
              "       [0.25359917],\n",
              "       [0.22395093],\n",
              "       [0.2771041 ],\n",
              "       [0.25146242],\n",
              "       [0.19590533],\n",
              "       [0.15009747],\n",
              "       [0.10228634],\n",
              "       [0.14515607],\n",
              "       [0.17119849],\n",
              "       [0.17467083],\n",
              "       [0.15450467],\n",
              "       [0.24491836],\n",
              "       [0.27910738],\n",
              "       [0.26975878],\n",
              "       [0.30568392],\n",
              "       [0.30928974],\n",
              "       [0.30274579],\n",
              "       [0.29339729],\n",
              "       [0.26708781],\n",
              "       [0.2871204 ],\n",
              "       [0.3070194 ],\n",
              "       [0.29072622],\n",
              "       [0.27269691],\n",
              "       [0.26187934],\n",
              "       [0.34214317],\n",
              "       [0.33987283],\n",
              "       [0.3338631 ],\n",
              "       [0.32104226],\n",
              "       [0.28685324],\n",
              "       [0.25800637],\n",
              "       [0.24198024],\n",
              "       [0.23022782],\n",
              "       [0.23677177],\n",
              "       [0.26735487],\n",
              "       [0.26014312],\n",
              "       [0.20525383],\n",
              "       [0.20071316],\n",
              "       [0.17787602],\n",
              "       [0.18428639],\n",
              "       [0.19256656],\n",
              "       [0.16599003],\n",
              "       [0.1866903 ],\n",
              "       [0.16158283],\n",
              "       [0.14195088],\n",
              "       [0.17520495],\n",
              "       [0.17226692],\n",
              "       [0.18522124],\n",
              "       [0.17199976],\n",
              "       [0.14609092],\n",
              "       [0.16465454],\n",
              "       [0.17320177],\n",
              "       [0.17907793],\n",
              "       [0.21941026],\n",
              "       [0.21473601],\n",
              "       [0.226622  ],\n",
              "       [0.21807477],\n",
              "       [0.21299978],\n",
              "       [0.24144612],\n",
              "       [0.31316272],\n",
              "       [0.33893798],\n",
              "       [0.31222787],\n",
              "       [0.27910738],\n",
              "       [0.31156018],\n",
              "       [0.33226046],\n",
              "       [0.29540047],\n",
              "       [0.32104226],\n",
              "       [0.34187611],\n",
              "       [0.44030293],\n",
              "       [0.39249179],\n",
              "       [0.36912044],\n",
              "       [0.43015305],\n",
              "       [0.32277838],\n",
              "       [0.2621464 ],\n",
              "       [0.25413339],\n",
              "       [0.25600309],\n",
              "       [0.25533529],\n",
              "       [0.28404869],\n",
              "       [0.26642002],\n",
              "       [0.25052746],\n",
              "       [0.21660571],\n",
              "       [0.21326694],\n",
              "       [0.20351771],\n",
              "       [0.18054699],\n",
              "       [0.19056328],\n",
              "       [0.19323436],\n",
              "       [0.19603891],\n",
              "       [0.22007795],\n",
              "       [0.24291509],\n",
              "       [0.26374904],\n",
              "       [0.24491836],\n",
              "       [0.25132884],\n",
              "       [0.2247523 ],\n",
              "       [0.20271643],\n",
              "       [0.21139724],\n",
              "       [0.24598679],\n",
              "       [0.27670347],\n",
              "       [0.33706828],\n",
              "       [0.35563181],\n",
              "       [0.34855364],\n",
              "       [0.40077187],\n",
              "       [0.37913674],\n",
              "       [0.40638107],\n",
              "       [0.40370999],\n",
              "       [0.36364482],\n",
              "       [0.34094126],\n",
              "       [0.34815301],\n",
              "       [0.34040705],\n",
              "       [0.37619861],\n",
              "       [0.38835176],\n",
              "       [0.39115631],\n",
              "       [0.38888587],\n",
              "       [0.44163841],\n",
              "       [0.41559599],\n",
              "       [0.40451137],\n",
              "       [0.39249179],\n",
              "       [0.43215633],\n",
              "       [0.44911721],\n",
              "       [0.40851782],\n",
              "       [0.39115631],\n",
              "       [0.38982072],\n",
              "       [0.40157324],\n",
              "       [0.40170682],\n",
              "       [0.41332565],\n",
              "       [0.3843452 ],\n",
              "       [0.38220834],\n",
              "       [0.43456025],\n",
              "       [0.43255697],\n",
              "       [0.42574586],\n",
              "       [0.40264167],\n",
              "       [0.40451137],\n",
              "       [0.39235822],\n",
              "       [0.40578001],\n",
              "       [0.43282402],\n",
              "       [0.42881757],\n",
              "       [0.48677847],\n",
              "       [0.54847887],\n",
              "       [0.56210099],\n",
              "       [0.54928015],\n",
              "       [0.59108144],\n",
              "       [0.60964506],\n",
              "       [0.63688929],\n",
              "       [0.63328347],\n",
              "       [0.66827376],\n",
              "       [0.63381769],\n",
              "       [0.61178182],\n",
              "       [0.64797401],\n",
              "       [0.6623975 ],\n",
              "       [0.65184699],\n",
              "       [0.63488611],\n",
              "       [0.64824117],\n",
              "       [0.65972653],\n",
              "       [0.67842353],\n",
              "       [0.69551809],\n",
              "       [0.62914344],\n",
              "       [0.62553751],\n",
              "       [0.62820859],\n",
              "       [0.64797401],\n",
              "       [0.64904244],\n",
              "       [0.64837465],\n",
              "       [0.66720533],\n",
              "       [0.64410104],\n",
              "       [0.64129649],\n",
              "       [0.60670693],\n",
              "       [0.64156364],\n",
              "       [0.63021176],\n",
              "       [0.57772638],\n",
              "       [0.57665805],\n",
              "       [0.60430302],\n",
              "       [0.59001311],\n",
              "       [0.60283396],\n",
              "       [0.59735833],\n",
              "       [0.6250033 ],\n",
              "       [0.60229974],\n",
              "       [0.59174923],\n",
              "       [0.54807824],\n",
              "       [0.55929644],\n",
              "       [0.58480465],\n",
              "       [0.65438449],\n",
              "       [0.66600332],\n",
              "       [0.65745609],\n",
              "       [0.64436819],\n",
              "       [0.62700658],\n",
              "       [0.58360264],\n",
              "       [0.59401957],\n",
              "       [0.61498701],\n",
              "       [0.62714016],\n",
              "       [0.71888944],\n",
              "       [0.72169389],\n",
              "       [0.76362876],\n",
              "       [0.76496435],\n",
              "       [0.74867116],\n",
              "       [0.70526722],\n",
              "       [0.70700345],\n",
              "       [0.70393164],\n",
              "       [0.74933896],\n",
              "       [0.74800337],\n",
              "       [0.72543329],\n",
              "       [0.72623476],\n",
              "       [0.72570045],\n",
              "       [0.74786989],\n",
              "       [0.72703603],\n",
              "       [0.71154412],\n",
              "       [0.72957353],\n",
              "       [0.69818906],\n",
              "       [0.7091401 ],\n",
              "       [0.71929008],\n",
              "       [0.76629994],\n",
              "       [0.72903921],\n",
              "       [0.73264513],\n",
              "       [0.74733558],\n",
              "       [0.79674945],\n",
              "       [0.81598056],\n",
              "       [0.82158987],\n",
              "       [0.81424455],\n",
              "       [0.81304264],\n",
              "       [0.79514671],\n",
              "       [0.80623143],\n",
              "       [0.81958649],\n",
              "       [0.82679833],\n",
              "       [0.80449541],\n",
              "       [0.82359305],\n",
              "       [0.84349216],\n",
              "       [0.83427713],\n",
              "       [0.84309152],\n",
              "       [0.8413553 ],\n",
              "       [0.78472978],\n",
              "       [0.741593  ],\n",
              "       [0.74012393],\n",
              "       [0.75241056],\n",
              "       [0.71608479],\n",
              "       [0.74292859],\n",
              "       [0.76523151],\n",
              "       [0.74813705],\n",
              "       [0.79247574],\n",
              "       [0.76750184],\n",
              "       [0.80716638],\n",
              "       [0.80342698],\n",
              "       [0.84001971],\n",
              "       [0.85030316],\n",
              "       [0.8462966 ],\n",
              "       [0.87968425],\n",
              "       [0.86085357],\n",
              "       [0.83801653],\n",
              "       [0.86352474],\n",
              "       [0.87020227],\n",
              "       [0.84736503],\n",
              "       [0.84335847],\n",
              "       [0.81344328],\n",
              "       [0.82893499],\n",
              "       [0.85858323],\n",
              "       [0.67895774],\n",
              "       [0.63582096],\n",
              "       [0.63528675],\n",
              "       [0.66667112],\n",
              "       [0.66066138],\n",
              "       [0.69097732],\n",
              "       [0.70446595],\n",
              "       [0.72837142],\n",
              "       [0.7427949 ],\n",
              "       [0.75548217],\n",
              "       [0.76696753],\n",
              "       [0.74600019],\n",
              "       [0.77765161],\n",
              "       [0.77204251],\n",
              "       [0.79594798],\n",
              "       [0.80863545],\n",
              "       [0.83961907],\n",
              "       [0.81611425],\n",
              "       [0.82920215],\n",
              "       [0.83855065],\n",
              "       [0.85724785],\n",
              "       [0.8332087 ],\n",
              "       [0.83093837],\n",
              "       [0.83855065],\n",
              "       [0.8089024 ],\n",
              "       [0.77578191],\n",
              "       [0.767769  ],\n",
              "       [0.73184386],\n",
              "       [0.75534869],\n",
              "       [0.74252775],\n",
              "       [0.83628031],\n",
              "       [0.81210769],\n",
              "       [0.78619884],\n",
              "       [0.77204251],\n",
              "       [0.77644971],\n",
              "       [0.76616626],\n",
              "       [0.77471349],\n",
              "       [0.81945301],\n",
              "       [0.83160616],\n",
              "       [0.85244002],\n",
              "       [0.88101984],\n",
              "       [0.89330646],\n",
              "       [0.89464205],\n",
              "       [0.87621201],\n",
              "       [0.87407515],\n",
              "       [0.8694008 ]])"
            ]
          },
          "execution_count": 30,
          "metadata": {},
          "output_type": "execute_result"
        }
      ],
      "source": [
        "data_test_scale\n"
      ]
    },
    {
      "cell_type": "code",
      "execution_count": 31,
      "id": "KV5E6NXPehGx",
      "metadata": {
        "id": "KV5E6NXPehGx"
      },
      "outputs": [],
      "source": [
        "x = []\n",
        "y = []\n",
        "\n",
        "for i in range(100, data_test_scale.shape[0]):\n",
        "    x.append(data_test_scale[i-100:i])\n",
        "    y.append(data_test_scale[i, 0])"
      ]
    },
    {
      "cell_type": "code",
      "execution_count": 32,
      "id": "GKr3wEjAe4Tz",
      "metadata": {
        "id": "GKr3wEjAe4Tz"
      },
      "outputs": [],
      "source": [
        "x, y = np.array(x), np.array(y)"
      ]
    },
    {
      "cell_type": "code",
      "execution_count": 33,
      "id": "llxbVGfbe95p",
      "metadata": {
        "colab": {
          "base_uri": "https://localhost:8080/"
        },
        "id": "llxbVGfbe95p",
        "outputId": "eb18499e-f371-4aad-f50e-30efa7c6deeb"
      },
      "outputs": [
        {
          "name": "stdout",
          "output_type": "stream",
          "text": [
            "\u001b[1m23/23\u001b[0m \u001b[32m━━━━━━━━━━━━━━━━━━━━\u001b[0m\u001b[37m\u001b[0m \u001b[1m3s\u001b[0m 86ms/step\n"
          ]
        }
      ],
      "source": [
        "y_predict = model.predict(x)"
      ]
    },
    {
      "cell_type": "code",
      "execution_count": 34,
      "id": "eFuclw0qfDBy",
      "metadata": {
        "id": "eFuclw0qfDBy"
      },
      "outputs": [],
      "source": [
        "scale = 1/scaler.scale_"
      ]
    },
    {
      "cell_type": "code",
      "execution_count": 35,
      "id": "YGGU4Q-sfJA4",
      "metadata": {
        "id": "YGGU4Q-sfJA4"
      },
      "outputs": [],
      "source": [
        "y_predict = y_predict*scale"
      ]
    },
    {
      "cell_type": "code",
      "execution_count": 36,
      "id": "wJWwSy8VfrT1",
      "metadata": {
        "id": "wJWwSy8VfrT1"
      },
      "outputs": [],
      "source": [
        "y = y*scale"
      ]
    },
    {
      "cell_type": "code",
      "execution_count": 37,
      "id": "qSkYo00fftQh",
      "metadata": {
        "colab": {
          "base_uri": "https://localhost:8080/",
          "height": 696
        },
        "id": "qSkYo00fftQh",
        "outputId": "e911f0bf-8d6b-4894-c56a-c85f7c7b17ed"
      },
      "outputs": [
        {
          "data": {
            "image/png": "[encoded data removed]",
            "text/plain": [
              "<Figure size 1000x800 with 1 Axes>"
            ]
          },
          "metadata": {},
          "output_type": "display_data"
        }
      ],
      "source": [
        "plt.figure(figsize=(10,8))\n",
        "plt.plot(y_predict, 'r', label='Predicted Price')\n",
        "plt.plot(y, 'g', label='Original Price')\n",
        "plt.xlabel('Time')\n",
        "plt.ylabel('Price')\n",
        "plt.legend()\n",
        "plt.show()"
      ]
    },
    {
      "cell_type": "code",
      "execution_count": 45,
      "id": "rQuxgw-SgZVG",
      "metadata": {
        "id": "rQuxgw-SgZVG"
      },
      "outputs": [],
      "source": [
        "model.save('Stock_Predictions_Model.keras')"
      ]
    },
    {
      "cell_type": "code",
      "execution_count": null,
      "id": "euHGFyTOgzwy",
      "metadata": {
        "id": "euHGFyTOgzwy"
      },
      "outputs": [],
      "source": []
    }
  ],
  "metadata": {
    "colab": {
      "provenance": []
    },
    "kernelspec": {
      "display_name": "Python 3 (ipykernel)",
      "language": "python",
      "name": "python3"
    },
    "language_info": {
      "codemirror_mode": {
        "name": "ipython",
        "version": 3
      },
      "file_extension": ".py",
      "mimetype": "text/x-python",
      "name": "python",
      "nbconvert_exporter": "python",
      "pygments_lexer": "ipython3",
      "version": "3.12.2"
    }
  },
  "nbformat": 4,
  "nbformat_minor": 5
}
